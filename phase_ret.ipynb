{
 "cells": [
  {
   "cell_type": "markdown",
   "metadata": {},
   "source": [
    "# Adding weights to the expressions"
   ]
  },
  {
   "cell_type": "markdown",
   "metadata": {},
   "source": [
    "First, we verify our functions D and E are infact homometric"
   ]
  },
  {
   "cell_type": "code",
   "execution_count": 1,
   "metadata": {},
   "outputs": [],
   "source": [
    "x, a, b, c, d = var('x a b c d')\n",
    "#pretty sure this is only right for x a real - think a conjugate is needed otherwise\n",
    "def adjoint(polynomial, n = 8):\n",
    "    out(x) = 0 \n",
    "    for elem in polynomial.coefficients(x):\n",
    "        out += elem[0](x) * x^( mod(-1 * elem[1](x), n) )\n",
    "    return out\n",
    "\n",
    "def reduce_exp(polynomial, n = 8):\n",
    "    out(x) = 0\n",
    "    for elem in polynomial.coefficients(x):\n",
    "        out += elem[0](x) * x^( mod(elem[1](x), n))\n",
    "    return out\n",
    "\n",
    "def patterson(polynomial, n = 8):\n",
    "    adjoint_poly = adjoint(polynomial, n)\n",
    "    return reduce_exp(polynomial * adjoint_poly, n)"
   ]
  },
  {
   "cell_type": "code",
   "execution_count": 2,
   "metadata": {},
   "outputs": [
    {
     "name": "stdout",
     "output_type": "stream",
     "text": [
      "Before reducing the exponents:\n",
      "x^11 + x^10 + x^9 + 3*x^8 + 2*x^7 + x^6 + 2*x^5 + 2*x^4 + x^3 + x + 1\n",
      "x^10 + 2*x^9 + 3*x^8 + 2*x^7 + x^6 + 2*x^5 + 2*x^4 + 2*x^3 + 1\n",
      "After reducing the exponents:\n",
      "2*x^7 + x^6 + 2*x^5 + 2*x^4 + 2*x^3 + x^2 + 2*x + 4\n",
      "2*x^7 + x^6 + 2*x^5 + 2*x^4 + 2*x^3 + x^2 + 2*x + 4\n",
      "Computed all at once:\n",
      "2*x^7 + x^6 + 2*x^5 + 2*x^4 + 2*x^3 + x^2 + 2*x + 4\n",
      "2*x^7 + x^6 + 2*x^5 + 2*x^4 + 2*x^3 + x^2 + 2*x + 4\n"
     ]
    }
   ],
   "source": [
    "D_orig(x) = 1 + x + x^3 + x^4\n",
    "D_orig_star(x) = adjoint(D_orig, 8)\n",
    "E_orig(x) = 1 + x^3 + x^4 + x^5\n",
    "E_orig_star(x) = adjoint(E_orig, 8)\n",
    "\n",
    "print(\"Before reducing the exponents:\")\n",
    "print((D_orig * D_orig_star)(x).full_simplify())\n",
    "print((E_orig * E_orig_star)(x).full_simplify())\n",
    "\n",
    "D_orig_combined(x) = reduce_exp(D_orig * D_orig_star, 8)\n",
    "E_orig_combined(x) = reduce_exp(E_orig * E_orig_star, 8)\n",
    "print(\"After reducing the exponents:\")\n",
    "print(D_orig_combined(x))\n",
    "print(E_orig_combined(x))\n",
    "\n",
    "print(\"Computed all at once:\")\n",
    "print(patterson(D_orig, 8)(x))\n",
    "print(patterson(E_orig, 8)(x))"
   ]
  },
  {
   "cell_type": "markdown",
   "metadata": {},
   "source": [
    "### Basic investigation"
   ]
  },
  {
   "cell_type": "markdown",
   "metadata": {},
   "source": [
    "We now consider what happens if we multiply the x^3 term in D with weight 3. Are there a, b, c, d weights to add to E that make the modified D and E homometric?"
   ]
  },
  {
   "cell_type": "code",
   "execution_count": 3,
   "metadata": {},
   "outputs": [
    {
     "name": "stdout",
     "output_type": "stream",
     "text": [
      "4*x^7 + 3*x^6 + 4*x^5 + 2*x^4 + 4*x^3 + 3*x^2 + 4*x + 12\n",
      "b*d*x^6 + (b*c + c*d)*x^7 + 2*a*c*x^4 + (a*b + a*d)*x^5 + b*d*x^2 + (a*b + a*d)*x^3 + a^2 + b^2 + c^2 + d^2 + (b*c + c*d)*x\n"
     ]
    }
   ],
   "source": [
    "D(x) = 1 + x + 3*x^3 + x^4\n",
    "D_star(x) = adjoint(D, 8)\n",
    "D_combined(x) = patterson(D, 8)\n",
    "\n",
    "\n",
    "E(x) = a + b*x^3 + c*x^4 + d*x^5\n",
    "E_star(x) = adjoint(E, 8)\n",
    "E_combined(x) = patterson(E, 8)\n",
    "\n",
    "\n",
    "print(D_combined(x))\n",
    "print(E_combined(x))"
   ]
  },
  {
   "cell_type": "markdown",
   "metadata": {},
   "source": [
    "What we got manually reducing:"
   ]
  },
  {
   "cell_type": "code",
   "execution_count": 4,
   "metadata": {},
   "outputs": [
    {
     "name": "stdout",
     "output_type": "stream",
     "text": [
      "x^11 + 3*x^10 + 3*x^9 + 11*x^8 + 4*x^7 + 3*x^6 + 4*x^5 + 2*x^4 + 3*x^3 + x + 1\n"
     ]
    },
    {
     "data": {
      "text/plain": [
       "True"
      ]
     },
     "execution_count": 4,
     "metadata": {},
     "output_type": "execute_result"
    }
   ],
   "source": [
    "print((D * D_star)(x).full_simplify())\n",
    "#manually replacing exponents\n",
    "D_manual(x) = x^3 + 3*x^2 + 3*x^1 + 11*x^0 + 4*x^7 + 3*x^6 + 4*x^5 + 2*x^4 + 3*x^3 + x + 1\n",
    "bool(D_manual(x) == D_combined(x))"
   ]
  },
  {
   "cell_type": "markdown",
   "metadata": {},
   "source": [
    "and for E this gives"
   ]
  },
  {
   "cell_type": "code",
   "execution_count": 5,
   "metadata": {},
   "outputs": [
    {
     "name": "stdout",
     "output_type": "stream",
     "text": [
      "b*d*x^10 + (b*c + c*d)*x^9 + (b^2 + c^2 + d^2)*x^8 + b*d*x^6 + (b*c + c*d)*x^7 + 2*a*c*x^4 + (a*b + a*d)*x^5 + (a*b + a*d)*x^3 + a^2\n"
     ]
    },
    {
     "data": {
      "text/plain": [
       "True"
      ]
     },
     "execution_count": 5,
     "metadata": {},
     "output_type": "execute_result"
    }
   ],
   "source": [
    "print((E * E_star)(x).full_simplify())\n",
    "#manually replacing exponents\n",
    "E_manual(x) =  b*d*x^2 + (b*c + c*d)*x^1 + (b^2 + c^2 + d^2)*x^0 + b*d*x^6 + (b*c + c*d)*x^7 + 2*a*c*x^4 + (a*b + a*d)*x^5 + (a*b + a*d)*x^3 + a^2\n",
    "bool(E_combined(x) == E_manual(x))"
   ]
  },
  {
   "cell_type": "markdown",
   "metadata": {},
   "source": [
    "Note that if they are homometric, we get the following equations:\n",
    "\n",
    "0. a^2 + b^2 + c^2 + d^2 = 12 \n",
    "1. bc + cd = 4\n",
    "2. bd = 3\n",
    "3. (ab + ad) = 4\n",
    "4. 2ac = 2\n",
    "5. (ab + ad) = 4\n",
    "6. bd = 3\n",
    "7. bc + cd = 4 \n",
    "\n",
    "Suppose a,b,c,d in R.\n",
    "\n",
    "Combine equations 1 and 3 to get c(b+d) = 4 = a(b+d). b+d != 0 or else this equation isn't true, so we have c=a and ac = 1, so a = +1, -1, c = +1, -1. \n",
    "\n",
    "If c = +1, then b+d = 4, bd = 3, so 3 = (4-d)d = 4d - d^2 implies d^2 - 4d + 3 = (d-3)(d-1) = 0, so d = 3 or 1, which means b = 1 or 3.\n",
    "\n",
    "If c = -1, then b+d = -4, bd = 3, so 3 = (-4-d)d = -4d - d^2 implies d^2 + 4d + 3 = (d+3)(d+1) = 0, so d = -3 or -1, which means b = -1 or -3. \n",
    "\n",
    "So the viable solutions seem to be \n",
    "- a = 1,  b = 1,  c = 1,  d = 3\n",
    "- a = 1,  b = 3,  c = 1,  d = 1\n",
    "- a = -1, b = -1, c = -1, d = -3\n",
    "- a = -1, b = -3, c = -1, d = -1\n",
    "\n",
    "We can also just get this directly through sage."
   ]
  },
  {
   "cell_type": "code",
   "execution_count": 6,
   "metadata": {},
   "outputs": [
    {
     "name": "stdout",
     "output_type": "stream",
     "text": [
      "[\n",
      "[a == -1, b == -3, c == -1, d == -1],\n",
      "[a == 1, b == 1, c == 1, d == 3],\n",
      "[a == -1, b == -1, c == -1, d == -3],\n",
      "[a == 1, b == 3, c == 1, d == 1]\n",
      "]\n"
     ]
    }
   ],
   "source": [
    "print(solve([a^2 + b^2 + c^2 + d^2 == 12, b*c+c*d == 4, b*d == 3, a*b+a*d == 4, 2*a*c ==2], a, b, c, d))"
   ]
  },
  {
   "cell_type": "markdown",
   "metadata": {},
   "source": [
    "Here is a quick verification that these weights work."
   ]
  },
  {
   "cell_type": "code",
   "execution_count": 7,
   "metadata": {},
   "outputs": [
    {
     "name": "stdout",
     "output_type": "stream",
     "text": [
      "4*x^7 + 3*x^6 + 4*x^5 + 2*x^4 + 4*x^3 + 3*x^2 + 4*x + 12\n",
      "4*x^7 + 3*x^6 + 4*x^5 + 2*x^4 + 4*x^3 + 3*x^2 + 4*x + 12\n",
      "4*x^7 + 3*x^6 + 4*x^5 + 2*x^4 + 4*x^3 + 3*x^2 + 4*x + 12\n",
      "4*x^7 + 3*x^6 + 4*x^5 + 2*x^4 + 4*x^3 + 3*x^2 + 4*x + 12\n",
      "4*x^7 + 3*x^6 + 4*x^5 + 2*x^4 + 4*x^3 + 3*x^2 + 4*x + 12\n"
     ]
    }
   ],
   "source": [
    "E_guess1(x) = 1 + 1*x^3 + 1*x^4 + 3*x^5\n",
    "print(patterson(E_guess1, 8)(x))\n",
    "\n",
    "E_guess2(x) = 1 + 3*x^3 + 1*x^4 + 1*x^5\n",
    "print(patterson(E_guess2, 8)(x))\n",
    "\n",
    "E_guess3(x) = -1 - 1*x^3 - 1*x^4 - 3*x^5\n",
    "print(patterson(E_guess3, 8)(x))\n",
    "\n",
    "E_guess4(x) = -1 - 3*x^3 - 1*x^4 - 1*x^5\n",
    "print(patterson(E_guess4, 8)(x))\n",
    "\n",
    "print(D_combined(x))\n"
   ]
  },
  {
   "cell_type": "markdown",
   "metadata": {},
   "source": [
    "Question - If we have some weights A,B,C,D applied to D - is the ones term also be in the form A^2 + B^2 + C^2 + D^2? It turns out yes! So we have a condition that must hold. The sum of the squares of the weights must be equal for both.\n",
    "\n",
    "If we have D = Ax^(k_1) + Bx^(k_2) + Cx^(k_3) + Dx^(k_4) where each k is distinct, its clear why this A^2 + B^2 + C^2 + D^2 term appears - in the definition of D^*, we invert the powers, so when we multiply them together these appear. Furthermore, since k's are distinct this is the only way to get x^0 terms (I think). So this probably works not only for arbitrary D, but also with more x's as well."
   ]
  },
  {
   "cell_type": "markdown",
   "metadata": {},
   "source": [
    "Guess - when we added weight 3 to x^3, it affected a vertex which had distances 1/2/3 in the Patterson diagram. The subsequent solutions (in positive integers) added weight 3 to either x^3 or x^5 - note both of these also have distances 1/2/3. Perhaps for positive integer weights, we can add \"extra points\" on top of each other?\n",
    "\n",
    "In particular, it might mean there are no solutions if we add a weight to 1 in D - say we make it 3 + x + x^3 + x^4. Notably, this vertex has distances 1/3/4, but there is no such vertex in E's Patterson diagram.\n",
    "\n",
    "(TODO - add pictures of said diagrams here)"
   ]
  },
  {
   "cell_type": "code",
   "execution_count": 8,
   "metadata": {},
   "outputs": [
    {
     "name": "stdout",
     "output_type": "stream",
     "text": [
      "4*x^7 + x^6 + 4*x^5 + 6*x^4 + 4*x^3 + x^2 + 4*x + 12\n",
      "b*d*x^6 + (b*c + c*d)*x^7 + 2*a*c*x^4 + (a*b + a*d)*x^5 + b*d*x^2 + (a*b + a*d)*x^3 + a^2 + b^2 + c^2 + d^2 + (b*c + c*d)*x\n"
     ]
    }
   ],
   "source": [
    "D_test(x) = 3+x+1*x^3+x^4\n",
    "D_test_combined(x) = patterson(D_test, 8)\n",
    "print(D_test_combined(x))\n",
    "print(E_combined(x))\n"
   ]
  },
  {
   "cell_type": "markdown",
   "metadata": {},
   "source": [
    "This gives the following equations:\n",
    "\n",
    "0. a^2 + b^2 + c^2 + d^2 = 12\n",
    "1. bc + cd = 4\n",
    "2. bd = 1\n",
    "3. ab + ad = 4\n",
    "4. 2ac = 6\n",
    "5. ab + ad = 4\n",
    "6. bd = 1\n",
    "7. bc + cd = 4\n",
    "\n",
    "This has no solutions in the integers since equations 2 forces b=d=1 or b=d=-1. However, if b=d=1, then c(b+d) = 2c = 4 so c=2. Similarly, a(b+d) = 2a = 4 so a = 2, but 2^2 + 2^2 + 1^2 + 1^2 = 10 not 12. Similar issues arise when b=d=-1.\n",
    "\n",
    "In the reals, Again, b, d, a, c are all not 0 and a/c and b/d have same signs by equations 2 and 4. c(b+d) = 4 = a(b+d), so b+d can't be zero and thus a=c. Since ac=3, this means a = c = sqrt(3) or a = c = -sqrt(3). Note that we can substitute this into 1 to get sqrt(3) (b+d) = 4 and bd = 1. Solving this for b/d gives us the following (along with the case of c = -sqrt(3)):"
   ]
  },
  {
   "cell_type": "code",
   "execution_count": 9,
   "metadata": {},
   "outputs": [
    {
     "name": "stdout",
     "output_type": "stream",
     "text": [
      "[\n",
      "[b == 1/3*sqrt(3), d == sqrt(3)],\n",
      "[b == sqrt(3), d == 1/3*sqrt(3)]\n",
      "]\n",
      "[\n",
      "[b == -sqrt(3), d == -1/3*sqrt(3)],\n",
      "[b == -1/3*sqrt(3), d == -sqrt(3)]\n",
      "]\n"
     ]
    }
   ],
   "source": [
    "print(solve([sqrt(3)*(b+d) == 4, b*d == 1], b, d))\n",
    "print(solve([-sqrt(3)*(b+d) == 4, b*d == 1], b, d))"
   ]
  },
  {
   "cell_type": "markdown",
   "metadata": {},
   "source": [
    "Note that the above solution doesn't satisify 0. This is because we have 3 \"sqrt(3)\" terms and 1 \"1/3 sqrt(3)\" term, which gives a^2 + b^2 + c^2 + d^2 = 3 + 3 + 3 + 1/3 != 12. Thus this case doesn't have any real solution either. So perhaps the idea behind the duplicate vertex checks out?"
   ]
  },
  {
   "cell_type": "code",
   "execution_count": 10,
   "metadata": {},
   "outputs": [
    {
     "name": "stdout",
     "output_type": "stream",
     "text": [
      "[\n",
      "\n",
      "]\n"
     ]
    }
   ],
   "source": [
    "#Alternatively, just do the solve all at once with sage\n",
    "print(solve([a^2 + b^2 + c^2 + d^2 == 12, b*c+c*d == 4, b*d == 1, a*b+a*d == 4, 2*a*c ==6], a, b, c, d))"
   ]
  },
  {
   "cell_type": "markdown",
   "metadata": {},
   "source": [
    "We can also try this for x and x^4"
   ]
  },
  {
   "cell_type": "code",
   "execution_count": 11,
   "metadata": {},
   "outputs": [
    {
     "name": "stdout",
     "output_type": "stream",
     "text": [
      "4*x^7 + 3*x^6 + 4*x^5 + 2*x^4 + 4*x^3 + 3*x^2 + 4*x + 12\n",
      "b*d*x^6 + (b*c + c*d)*x^7 + 2*a*c*x^4 + (a*b + a*d)*x^5 + b*d*x^2 + (a*b + a*d)*x^3 + a^2 + b^2 + c^2 + d^2 + (b*c + c*d)*x\n",
      "[\n",
      "[a == -1, b == -3, c == -1, d == -1],\n",
      "[a == 1, b == 1, c == 1, d == 3],\n",
      "[a == -1, b == -1, c == -1, d == -3],\n",
      "[a == 1, b == 3, c == 1, d == 1]\n",
      "]\n"
     ]
    }
   ],
   "source": [
    "D_test(x) = 1+3*x+x^3+x^4\n",
    "D_test_combined(x) = patterson(D_test, 8)\n",
    "\n",
    "print(D_test_combined(x))\n",
    "print(E_combined(x))\n",
    "print(solve([a^2 + b^2 + c^2 + d^2 == 12, b*c+c*d == 4, b*d == 3, a*b+a*d == 4, 2*a*c ==2], a, b, c, d))\n"
   ]
  },
  {
   "cell_type": "code",
   "execution_count": 12,
   "metadata": {},
   "outputs": [
    {
     "name": "stdout",
     "output_type": "stream",
     "text": [
      "4*x^7 + x^6 + 4*x^5 + 6*x^4 + 4*x^3 + x^2 + 4*x + 12\n",
      "b*d*x^6 + (b*c + c*d)*x^7 + 2*a*c*x^4 + (a*b + a*d)*x^5 + b*d*x^2 + (a*b + a*d)*x^3 + a^2 + b^2 + c^2 + d^2 + (b*c + c*d)*x\n",
      "[\n",
      "\n",
      "]\n"
     ]
    }
   ],
   "source": [
    "D_test(x) = 1+x+x^3+3*x^4\n",
    "D_test_combined(x) = patterson(D_test, 8)\n",
    "\n",
    "print(D_test_combined(x))\n",
    "print(E_combined(x))\n",
    "print(solve([a^2 + b^2 + c^2 + d^2 == 12, b*c+c*d == 4, b*d ==1, a*b+a*d == 4, 2*a*c == 6], a, b, c, d))"
   ]
  },
  {
   "cell_type": "markdown",
   "metadata": {},
   "source": [
    "### Trying this but with variable weight on 1 variable"
   ]
  },
  {
   "cell_type": "markdown",
   "metadata": {},
   "source": [
    "First we try with varying on 1"
   ]
  },
  {
   "cell_type": "code",
   "execution_count": 13,
   "metadata": {},
   "outputs": [
    {
     "name": "stdout",
     "output_type": "stream",
     "text": [
      "(A + 1)*x^7 + (A + 1)*x^5 + x^6 + 2*A*x^4 + A*x^3 + x^3 + A^2 + A*x + x^2 + x + 3\n",
      "b*d*x^6 + (b*c + c*d)*x^7 + 2*a*c*x^4 + (a*b + a*d)*x^5 + b*d*x^2 + (a*b + a*d)*x^3 + a^2 + b^2 + c^2 + d^2 + (b*c + c*d)*x\n",
      "[\n",
      "\n",
      "]\n"
     ]
    }
   ],
   "source": [
    "var('a b c d A')\n",
    "D_test(x) = A+x+x^3+x^4\n",
    "D_test_combined(x) = patterson(D_test, 8)\n",
    "\n",
    "print(D_test_combined(x))\n",
    "print(E_combined(x))\n",
    "print(solve([a^2 + b^2 + c^2 + d^2 == 3 + A^2, b*c+c*d == A + 1, b*d == 1, a*b+a*d == A+1, 2*a*c == 2*A], a, b, c, d))"
   ]
  },
  {
   "cell_type": "markdown",
   "metadata": {},
   "source": [
    "Sage reports no solutions - but is this accurate? Lets gather the equations first and decide\n",
    "\n",
    "0. a^2 + b^2 + c^2 + d^2 == 3 + A^2\n",
    "1. bc+cd == A + 1\n",
    "2. bd == 1\n",
    "3. ab+ad == A+1\n",
    "4. 2ac == 2A\n",
    "\n",
    "\n",
    "Equations 1 and 3 give c(b+d) = a(b+d). Note that b+d = 0 but bd = 1 is a contradiction in the reals. Thus (b+d) != 0, so a=c. \n",
    "\n",
    "Thus from 4 we get ac = A so c^2 = a^2 = A. So a = c = +/- sqrt(A). \n",
    "\n",
    "Equation 3 gives us bd=1 so d = 1/b. Then equation 1 gives us c(b + 1/b) == A + 1 == sqrt(A)(b + 1 / b) = A + 1 => (b + 1/b) = sqrt(A) + 1 / sqrt(A). Thus the solutions for b are sqrt(A) and 1/sqrt(A) and d are the recriprocals. Note if c = -sqrt(A) instead, then you just add the minus sign to both sides.\n",
    "\n",
    "Now, a^2 + c^2 + b^2 + d^2 = sqrt(A)^2 + sqrt(A)^2 + sqrt(A)^2 + 1/sqrt(A)^2 = 3A + 1/A = 3 + A^2.\n",
    "\n",
    "(allegedly) this is only solvable when A=1. Thus any other weight has no solution?\n"
   ]
  },
  {
   "cell_type": "code",
   "execution_count": 14,
   "metadata": {},
   "outputs": [
    {
     "data": {
      "text/plain": [
       "[A == 1]"
      ]
     },
     "execution_count": 14,
     "metadata": {},
     "output_type": "execute_result"
    }
   ],
   "source": [
    "solve(3+ A^2 == 3*A + 1/A, A)"
   ]
  },
  {
   "cell_type": "markdown",
   "metadata": {},
   "source": [
    "Next we try variation on x"
   ]
  },
  {
   "cell_type": "code",
   "execution_count": 15,
   "metadata": {},
   "outputs": [
    {
     "name": "stdout",
     "output_type": "stream",
     "text": [
      "(A + 1)*x^7 + A*x^6 + (A + 1)*x^5 + A*x^3 + 2*x^4 + A*x^2 + x^3 + A^2 + A*x + x + 3\n",
      "b*d*x^6 + (b*c + c*d)*x^7 + 2*a*c*x^4 + (a*b + a*d)*x^5 + b*d*x^2 + (a*b + a*d)*x^3 + a^2 + b^2 + c^2 + d^2 + (b*c + c*d)*x\n",
      "[\n",
      "[a == -1, b == -A, c == -1, d == -1],\n",
      "[a == 1, b == 1, c == 1, d == A],\n",
      "[a == -1, b == -1, c == -1, d == -A],\n",
      "[a == 1, b == A, c == 1, d == 1]\n",
      "]\n"
     ]
    }
   ],
   "source": [
    "var('a b c d A')\n",
    "D_test(x) = 1+A*x+x^3+x^4\n",
    "D_test_combined(x) = patterson(D_test, 8)\n",
    "print(D_test_combined(x))\n",
    "print(E_combined(x))\n",
    "print(solve([a^2 + b^2 + c^2 + d^2 == 3 + A^2, b*c+c*d == A + 1, b*d == A, a*b+a*d == A+1, 2*a*c == 2], a, b, c, d))"
   ]
  },
  {
   "cell_type": "markdown",
   "metadata": {},
   "source": [
    "Next we try variation on x^3"
   ]
  },
  {
   "cell_type": "code",
   "execution_count": 16,
   "metadata": {},
   "outputs": [
    {
     "name": "stdout",
     "output_type": "stream",
     "text": [
      "(A + 1)*x^7 + A*x^6 + (A + 1)*x^5 + A*x^3 + 2*x^4 + A*x^2 + x^3 + A^2 + A*x + x + 3\n",
      "b*d*x^6 + (b*c + c*d)*x^7 + 2*a*c*x^4 + (a*b + a*d)*x^5 + b*d*x^2 + (a*b + a*d)*x^3 + a^2 + b^2 + c^2 + d^2 + (b*c + c*d)*x\n",
      "[\n",
      "[a == -1, b == -A, c == -1, d == -1],\n",
      "[a == 1, b == 1, c == 1, d == A],\n",
      "[a == -1, b == -1, c == -1, d == -A],\n",
      "[a == 1, b == A, c == 1, d == 1]\n",
      "]\n"
     ]
    }
   ],
   "source": [
    "var('a b c d A')\n",
    "D_test(x) = 1+x+A*x^3+x^4\n",
    "D_test_combined(x) = patterson(D_test, 8)\n",
    "print(D_test_combined(x))\n",
    "print(E_combined(x))\n",
    "print(solve([a^2 + b^2 + c^2 + d^2 == 3 + A^2, b*c+c*d == A + 1, b*d == A, a*b+a*d == A+1, 2*a*c == 2], a, b, c, d))"
   ]
  },
  {
   "cell_type": "markdown",
   "metadata": {},
   "source": [
    "Lastly, we try variation on x^4"
   ]
  },
  {
   "cell_type": "code",
   "execution_count": 17,
   "metadata": {},
   "outputs": [
    {
     "name": "stdout",
     "output_type": "stream",
     "text": [
      "(A + 1)*x^7 + (A + 1)*x^5 + x^6 + 2*A*x^4 + A*x^3 + x^3 + A^2 + A*x + x^2 + x + 3\n",
      "b*d*x^6 + (b*c + c*d)*x^7 + 2*a*c*x^4 + (a*b + a*d)*x^5 + b*d*x^2 + (a*b + a*d)*x^3 + a^2 + b^2 + c^2 + d^2 + (b*c + c*d)*x\n",
      "[\n",
      "\n",
      "]\n"
     ]
    }
   ],
   "source": [
    "var('a b c d A')\n",
    "D_test(x) = 1+x+x^3+A*x^4\n",
    "D_test_combined(x) = patterson(D_test, 8)\n",
    "print(D_test_combined(x))\n",
    "print(E_combined(x))\n",
    "print(solve([a^2 + b^2 + c^2 + d^2 == 3 + A^2, b*c+c*d == A + 1, b*d == 1, a*b+a*d == A+1, 2*a*c == 2*A], a, b, c, d))"
   ]
  },
  {
   "cell_type": "markdown",
   "metadata": {},
   "source": [
    "Again, we should probably verify if there really are no solutions w.r.t to A. Our equations are\n",
    "\n",
    "0. a^2 + b^2 + c^2 + d^2 = A^2 + 3\n",
    "1. bc+cd = A+1\n",
    "2. bd = 1\n",
    "3. ab + ad = A+1\n",
    "4. 2ac = 2A\n",
    "\n",
    "These equations are the same as before, so no new solutions (aside from when A = 1)"
   ]
  },
  {
   "cell_type": "markdown",
   "metadata": {},
   "source": [
    "We now try variation on both x and x^3 at the same time - note this does have solutions. At least for these functions, it seems that IF you can vary the coefficient on a certain monomial by itself and there are solutions, and you can vary the coefficient on a different monomial by itself, you can vary the coefficients together and get a new homometric function for E"
   ]
  },
  {
   "cell_type": "code",
   "execution_count": 18,
   "metadata": {},
   "outputs": [
    {
     "name": "stdout",
     "output_type": "stream",
     "text": [
      "A*B*x^6 + (A + B)*x^7 + (A + B)*x^5 + A*B*x^2 + A*x^3 + B*x^3 + 2*x^4 + A^2 + B^2 + A*x + B*x + 2\n",
      "b*d*x^6 + (b*c + c*d)*x^7 + 2*a*c*x^4 + (a*b + a*d)*x^5 + b*d*x^2 + (a*b + a*d)*x^3 + a^2 + b^2 + c^2 + d^2 + (b*c + c*d)*x\n",
      "[\n",
      "[a == 1, b == B, c == 1, d == A],\n",
      "[a == 1, b == A, c == 1, d == B],\n",
      "[a == -1, b == -A, c == -1, d == -B],\n",
      "[a == -1, b == -B, c == -1, d == -A]\n",
      "]\n"
     ]
    }
   ],
   "source": [
    "var('a b c d A B')\n",
    "D_test(x) = 1+A*x+B*x^3+x^4\n",
    "D_test_combined(x) = patterson(D_test, 8)\n",
    "print(D_test_combined(x))\n",
    "print(E_combined(x))\n",
    "print(solve([a^2 + b^2 + c^2 + d^2 == 2 + A^2 + B^2, b*c+c*d == A+B, b*d == A*B, a*b+a*d == A+B, 2*a*c == 2], a, b, c, d))"
   ]
  },
  {
   "cell_type": "markdown",
   "metadata": {},
   "source": [
    "We can verify the solutions above are all of them - we have ac = 1 and a(b+d) = c(b+d) = A+B, so we have a = c = +/- 1. If a=c=1, Then we have b+d = A+B and bd = AB => b = AB / d, so AB / d + d = A + B. There are 2 obvious solutions for d with d = A or B. This is quadratic, so up to 2 solutions. Similar solutions happen if a=c=-1. Hence the above solutions seem good!"
   ]
  },
  {
   "cell_type": "markdown",
   "metadata": {},
   "source": [
    "Maybe we can get lucky with putting A on 1 and B on x and it'll work out?"
   ]
  },
  {
   "cell_type": "code",
   "execution_count": 19,
   "metadata": {},
   "outputs": [
    {
     "name": "stdout",
     "output_type": "stream",
     "text": [
      "(A*B + 1)*x^7 + B*x^6 + (A + B)*x^5 + 2*A*x^4 + A*x^3 + B*x^3 + A*B*x + B*x^2 + A^2 + B^2 + x + 2\n",
      "b*d*x^6 + (b*c + c*d)*x^7 + 2*a*c*x^4 + (a*b + a*d)*x^5 + b*d*x^2 + (a*b + a*d)*x^3 + a^2 + b^2 + c^2 + d^2 + (b*c + c*d)*x\n"
     ]
    }
   ],
   "source": [
    "var('a b c d A B')\n",
    "D_test(x) = A+B*x+x^3+x^4\n",
    "D_test_combined(x) = patterson(D_test, 8)\n",
    "print(D_test_combined(x))\n",
    "print(E_combined(x))"
   ]
  },
  {
   "cell_type": "markdown",
   "metadata": {},
   "source": [
    "It turns out to be some horrible symbolic mess - \n",
    "a^2 = (A^2 + AB)/(AB+1). You can then solve for b/c/d from this, but its pretty terrible. \n",
    "\n",
    "To get here - We have d = B/b and c = A/a. Apply those to c(b+d) = AB + 1 and a(b+d) = A+B to get 2 equations with only a and b. This gives \n",
    "\n",
    "1. a(b+ [B / b]) = A+B ==> A a (b + [B / b]) = A^2 + AB.\n",
    "2. (A/a)(b + [B / b]) = AB + 1 ==> A a (b + [B / b]) = a^2(AB + 1).\n",
    "3. Hence, a^2 = (A^2 + AB) / (AB + 1)\n",
    "\n",
    "Solving for b probably involves some quadratic stuff - alternatively you can calculate b^2 + d^2 through either c(b+d) = AB + 1 and bd = B or a(b+d) = A + B. At this point probably use sage to handle the algebraic manipulation"
   ]
  },
  {
   "cell_type": "markdown",
   "metadata": {},
   "source": [
    "### fully arbitrary stuff"
   ]
  },
  {
   "cell_type": "code",
   "execution_count": 20,
   "metadata": {},
   "outputs": [
    {
     "name": "stdout",
     "output_type": "stream",
     "text": [
      "B*C*x^6 + (A*B + C*D)*x^7 + 2*A*D*x^4 + (A*C + B*D)*x^5 + A*C*x^3 + B*D*x^3 + B*C*x^2 + A*B*x + C*D*x + A^2 + B^2 + C^2 + D^2\n",
      "Compare D_combined above to E_combined below\n",
      "b*d*x^6 + (b*c + c*d)*x^7 + 2*a*c*x^4 + (a*b + a*d)*x^5 + b*d*x^2 + (a*b + a*d)*x^3 + a^2 + b^2 + c^2 + d^2 + (b*c + c*d)*x\n"
     ]
    }
   ],
   "source": [
    "var(\"a b c d A B C D\")\n",
    "E(x) = a + b*x^3 + c*x^4 + d*x^5\n",
    "E_star(x) = adjoint(E, 8)\n",
    "E_combined(x) = patterson(E, 8)\n",
    "\n",
    "D(x) = A+B*x+C*x^3+D*x^4\n",
    "print(patterson(D,8)(x))\n",
    "print(\"Compare D_combined above to E_combined below\")\n",
    "print(E_combined(x))"
   ]
  },
  {
   "cell_type": "markdown",
   "metadata": {},
   "source": [
    "These equations are probably specific to this choice of D and E\n",
    "\n",
    "0. a^2 + b^2 + c^2 + d^2 = A^2 + B^2 + C^2 + D^2 \n",
    "1. bc+cd = AB + CD\n",
    "2. bd = BC\n",
    "3. ab + ad = AC + BD\n",
    "4. 2ac = 2AD\n",
    "5. ab + ad = AC + BD\n",
    "6. bd = BC\n",
    "7. bc + cd = AB + CD\n",
    "\n",
    "interestingly - there is some symmetry here."
   ]
  },
  {
   "cell_type": "markdown",
   "metadata": {},
   "source": [
    "From 2, we have d = BC / b.\n",
    "From 4, we have c = AD / a.\n",
    "\n",
    "From 1, we have c(b+d) = (AD / a)(b + BC / b) = AB + CD. Note this means a(AD)(b + BC / b) = a^2(AB + CD).\n",
    "\n",
    "From 3, we have a(b+d) = a(b + BC / b) = AC + BD. Note this means a(AD)(b + BC / b) = AD(AC + BD). \n",
    "\n",
    "Hence we have a^2(AB + CD) = AD(AC + BD), so a^2 = AD(AC+BD)/(AB + CD).\n",
    "\n",
    "At this point, we should probably backsub to get to b. This will involve some quadratic stuff unfortunately. "
   ]
  },
  {
   "cell_type": "markdown",
   "metadata": {},
   "source": [
    "### random stuff"
   ]
  },
  {
   "cell_type": "markdown",
   "metadata": {},
   "source": [
    "Quick test for arbitrary r as in Theorem 3.9. Lets try r = 1/12 on our example. It seems to create 2 homometric functions in Z_12."
   ]
  },
  {
   "cell_type": "code",
   "execution_count": 21,
   "metadata": {},
   "outputs": [
    {
     "name": "stdout",
     "output_type": "stream",
     "text": [
      "x^11 + x^10 + x^9 + x^8 + x^7 + 2*x^6 + x^5 + x^4 + x^3 + x^2 + x + 4\n",
      "x^11 + x^10 + x^9 + x^8 + x^7 + 2*x^6 + x^5 + x^4 + x^3 + x^2 + x + 4\n"
     ]
    }
   ],
   "source": [
    "#0  1/12,  1/4+1/12,  1/2\n",
    "#0  1/12   4/12       6/12\n",
    "D_weird(x) = 1 + x + x^4 + x^6\n",
    "#0  1/12+1/4  1/2  1/12 + 1/2\n",
    "#0  4/12      6/12 7/12 \n",
    "E_weird(x) = 1 + x^4 + x^6 + x^7\n",
    "print(patterson(D_weird, 12)(x))\n",
    "print(patterson(E_weird, 12)(x))"
   ]
  }
 ],
 "metadata": {
  "kernelspec": {
   "display_name": "SageMath 9.0",
   "language": "sage",
   "name": "sagemath"
  },
  "language_info": {
   "codemirror_mode": {
    "name": "ipython",
    "version": 3
   },
   "file_extension": ".py",
   "mimetype": "text/x-python",
   "name": "python",
   "nbconvert_exporter": "python",
   "pygments_lexer": "ipython3",
   "version": "3.8.10"
  },
  "orig_nbformat": 4
 },
 "nbformat": 4,
 "nbformat_minor": 2
}
